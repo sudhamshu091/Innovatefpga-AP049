{
 "cells": [
  {
   "cell_type": "code",
   "execution_count": null,
   "metadata": {},
   "outputs": [],
   "source": [
    "import cv2\n",
    "import numpy as np\n",
    "from PIL import Image\n",
    "for i in range(some_number)\n",
    "    vidcap = cv2.VideoCapture('any_video'+'str(i)'+'.mp4')\n",
    "    def getFrame(sec):\n",
    "        vidcap.set(cv2.CAP_PROP_POS_MSEC,sec*1000)\n",
    "        hasFrames,image = vidcap.read()\n",
    "        if hasFrames:\n",
    "            cv2.imwrite(\"test\"+str(i)+\".jpg\", image)   \n",
    "        return hasFrames\n",
    "    sec = 0\n",
    "    frameRate = 0.96774193548387\n",
    "    count=0\n",
    "    success = getFrame(sec)\n",
    "    while success:\n",
    "        count = count + 1\n",
    "        sec = sec + frameRate\n",
    "        sec = round(sec, 2)\n",
    "        success = getFrame(sec)"
   ]
  },
  {
   "cell_type": "code",
   "execution_count": null,
   "metadata": {},
   "outputs": [],
   "source": [
    "def rgb2gray(rgb):\n",
    "    return np.dot(rgb[...,:3], [0.299, 0.587, 0.114])"
   ]
  },
  {
   "cell_type": "code",
   "execution_count": null,
   "metadata": {},
   "outputs": [],
   "source": [
    "for count in range():\n",
    "    img = Image.open(\"test\"+str(count)+\".jpg\")\n",
    "    imgGray = img.convert('L')\n",
    "    imgGray.save('test_gray.jpg')\n",
    "    my_string = np.asarray(Image.open(\"test_gray.jpg\"),np.uint8)\n",
    "    img = cv2.imread(\"test_gray.jpg\")\n",
    "    bigger = cv2.resize(img, (48,48))\n",
    "    bigger = rgb2gray(bigger)\n",
    "    cv2.imwrite(\"test\"+str(count)+\".jpg\",bigger)"
   ]
  }
 ],
 "metadata": {
  "kernelspec": {
   "display_name": "Python 3",
   "language": "python",
   "name": "python3"
  },
  "language_info": {
   "codemirror_mode": {
    "name": "ipython",
    "version": 3
   },
   "file_extension": ".py",
   "mimetype": "text/x-python",
   "name": "python",
   "nbconvert_exporter": "python",
   "pygments_lexer": "ipython3",
   "version": "3.8.0"
  }
 },
 "nbformat": 4,
 "nbformat_minor": 5
}
